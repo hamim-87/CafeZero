{
 "cells": [
  {
   "cell_type": "code",
   "execution_count": 7,
   "id": "e76e163f-848d-4a73-a862-7954f095879e",
   "metadata": {},
   "outputs": [
    {
     "data": {
      "text/plain": [
       "True"
      ]
     },
     "execution_count": 7,
     "metadata": {},
     "output_type": "execute_result"
    }
   ],
   "source": [
    "import os\n",
    "\n",
    "from dotenv import load_dotenv;\n",
    "load_dotenv()\n"
   ]
  },
  {
   "cell_type": "code",
   "execution_count": 8,
   "id": "761d415c",
   "metadata": {},
   "outputs": [],
   "source": [
    "from langchain_groq import ChatGroq\n",
    "\n",
    "llm = ChatGroq(\n",
    "    temperature = 0,\n",
    "    groq_api_key = os.getenv(\"GROQ_API_KEY\"),\n",
    "    model_name = \"llama-3.1-70b-versatile\",\n",
    ")\n",
    "\n",
    "\n"
   ]
  },
  {
   "cell_type": "code",
   "execution_count": 10,
   "id": "91782ab8-4091-427d-98b9-58235915a140",
   "metadata": {},
   "outputs": [
    {
     "name": "stdout",
     "output_type": "stream",
     "text": [
      "James Bond is a fictional character and the main protagonist in a series of spy novels and short stories by British author Ian Fleming. He is a secret agent working for MI6, the British intelligence agency, and is known for his codename \"007\" (pronounced \"double-oh-seven\").\n",
      "\n",
      "James Bond is a highly skilled and charismatic spy who is often called upon to complete high-stakes missions for the British government. He is known for his:\n",
      "\n",
      "1. Sophistication and charm: Bond is a suave and sophisticated character who is comfortable in high-society settings.\n",
      "2. Intelligence and resourcefulness: Bond is highly intelligent and able to think on his feet, often using his wits to get out of difficult situations.\n",
      "3. Physical skills: Bond is a skilled fighter, driver, and marksman, and is able to handle himself in a variety of physical situations.\n",
      "4. Love of luxury: Bond is known for his love of fine cars, expensive suits, and high-end gadgets.\n",
      "\n",
      "Bond's character has been portrayed by several actors over the years, including:\n",
      "\n",
      "1. Sean Connery (1962-1967, 1971)\n",
      "2. George Lazenby (1969)\n",
      "3. Roger Moore (1973-1985)\n",
      "4. Timothy Dalton (1987-1989)\n",
      "5. Pierce Brosnan (1995-2002)\n",
      "6. Daniel Craig (2006-2021)\n",
      "\n",
      "The James Bond film series has become one of the most successful and enduring film franchises of all time, with 25 films released to date. The series has also spawned numerous novels, short stories, and other media, including video games and comic books.\n",
      "\n",
      "Some of the most famous James Bond films include:\n",
      "\n",
      "1. \"Dr. No\" (1962)\n",
      "2. \"Goldfinger\" (1964)\n",
      "3. \"Thunderball\" (1965)\n",
      "4. \"Live and Let Die\" (1973)\n",
      "5. \"The Spy Who Loved Me\" (1977)\n",
      "6. \"Casino Royale\" (2006)\n",
      "7. \"Skyfall\" (2012)\n",
      "8. \"Spectre\" (2015)\n",
      "9. \"No Time to Die\" (2021)\n",
      "\n",
      "Overall, James Bond is a cultural icon and a symbol of sophistication, style, and adventure.\n"
     ]
    }
   ],
   "source": [
    "response = llm.invoke(\"who is james bond?\")\n",
    "print(response.content)\n"
   ]
  },
  {
   "cell_type": "code",
   "execution_count": null,
   "id": "de84cf0e-dedf-413d-93ce-2affee406dd5",
   "metadata": {},
   "outputs": [],
   "source": [
    "print(hehe)"
   ]
  }
 ],
 "metadata": {
  "kernelspec": {
   "display_name": "Python 3",
   "language": "python",
   "name": "python3"
  },
  "language_info": {
   "codemirror_mode": {
    "name": "ipython",
    "version": 3
   },
   "file_extension": ".py",
   "mimetype": "text/x-python",
   "name": "python",
   "nbconvert_exporter": "python",
   "pygments_lexer": "ipython3",
   "version": "3.11.3"
  }
 },
 "nbformat": 4,
 "nbformat_minor": 5
}
