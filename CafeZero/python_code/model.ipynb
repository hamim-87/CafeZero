{
 "cells": [
  {
   "cell_type": "code",
   "execution_count": 13,
   "id": "e76e163f-848d-4a73-a862-7954f095879e",
   "metadata": {},
   "outputs": [
    {
     "data": {
      "text/plain": [
       "True"
      ]
     },
     "execution_count": 13,
     "metadata": {},
     "output_type": "execute_result"
    }
   ],
   "source": [
    "import os\n",
    "\n",
    "from dotenv import load_dotenv;\n",
    "load_dotenv()\n"
   ]
  },
  {
   "cell_type": "code",
   "execution_count": 14,
   "id": "761d415c",
   "metadata": {},
   "outputs": [],
   "source": [
    "from langchain_groq import ChatGroq\n",
    "\n",
    "llm = ChatGroq(\n",
    "    temperature = 0,\n",
    "    groq_api_key = os.getenv(\"GROQ_API_KEY\"),\n",
    "    model_name = os.getenv(\"MODEL_NAME\"),\n",
    ")\n",
    "\n",
    "\n"
   ]
  },
  {
   "cell_type": "code",
   "execution_count": 15,
   "id": "91782ab8-4091-427d-98b9-58235915a140",
   "metadata": {},
   "outputs": [
    {
     "name": "stdout",
     "output_type": "stream",
     "text": [
      "James Bond is a fictional character and the main protagonist in a series of spy novels and short stories by British author Ian Fleming. He is a secret agent working for MI6, the British intelligence agency. Bond is known for his codename \"007\" and his skills in combat, espionage, and seduction.\n",
      "\n",
      "As for online games, here are a few that feature James Bond:\n",
      "\n",
      "1. **GoldenEye 007** (1997) - a first-person shooter for the Nintendo 64 console, considered one of the best multiplayer games of all time.\n",
      "2. **James Bond 007: Nightfire** (2002) - a first-person shooter for PC, PlayStation 2, and Xbox.\n",
      "3. **James Bond 007: Everything or Nothing** (2003) - a third-person shooter for PC, PlayStation 2, and Xbox.\n",
      "4. **James Bond 007: From Russia with Love** (2005) - a third-person shooter for PC, PlayStation 2, and Xbox.\n",
      "5. **Quantum of Solace** (2008) - a first-person shooter for PC, PlayStation 2, PlayStation 3, Wii, and Xbox 360.\n",
      "6. **GoldenEye 007: Reloaded** (2011) - a first-person shooter for PlayStation 3 and Xbox 360.\n",
      "7. **007 Legends** (2012) - a first-person shooter for PC, PlayStation 3, and Xbox 360.\n",
      "\n",
      "More recent games include:\n",
      "\n",
      "1. **Hitman 3** (2021) - a stealth game that features a James Bond-inspired level.\n",
      "2. **IO Interactive's Project 007** (in development) - a new James Bond game from the developers of Hitman.\n",
      "\n",
      "These are just a few examples of James Bond games. There are many more out there, so if you're interested in playing as Bond, you have plenty of options to choose from!\n"
     ]
    }
   ],
   "source": [
    "input = []\n",
    "\n",
    "input.append(\"who is james bond?\")\n",
    "input.append(\"some online games name?\")\n",
    "\n",
    "response = llm.invoke(input)\n",
    "print(response.content)\n"
   ]
  },
  {
   "cell_type": "code",
   "execution_count": null,
   "id": "de84cf0e-dedf-413d-93ce-2affee406dd5",
   "metadata": {},
   "outputs": [],
   "source": [
    "def get_chatbot_response(_model_name, _masseges, _temperature=0):\n",
    "    input_massage = []\n",
    "\n",
    "    for massage in _masseges:\n",
    "        input_massage.append({\"role\": massage[\"role\"], \"content\":massage[\"content\"]})\n",
    "\n",
    "    llm = ChatGroq(\n",
    "        temperature = _temperature,\n",
    "        groq_api_key = os.getenv(\"GROQ_API_KEY\"),\n",
    "        model_name = _model_name,\n",
    "    )\n",
    "\n",
    "    response = llm.invoke(input_massage)\n",
    "\n",
    "    return response\n"
   ]
  },
  {
   "cell_type": "code",
   "execution_count": 18,
   "id": "73006b53",
   "metadata": {},
   "outputs": [
    {
     "data": {
      "text/plain": [
       "'James Bond is a fictional character and the main protagonist in a series of spy novels and short stories by British author Ian Fleming. He is a secret agent working for MI6, the British intelligence agency, and is known for his codename \"007,\" which indicates that he has a license to kill.\\n\\nJames Bond is often portrayed as a suave, sophisticated, and charismatic character who is skilled in hand-to-hand combat, marksmanship, and espionage. He is also known for his love of luxury cars, fine wine, and high-stakes poker.\\n\\nBond\\'s character has been portrayed by several actors over the years, including:\\n\\n1. Sean Connery (1962-1967, 1971) - Considered by many to be the definitive Bond.\\n2. George Lazenby (1969) - Played Bond in the film \"On Her Majesty\\'s Secret Service.\"\\n3. Roger Moore (1973-1985) - Played Bond in seven films, including \"Live and Let Die\" and \"The Spy Who Loved Me.\"\\n4. Timothy Dalton (1987-1989) - Played Bond in two films, including \"The Living Daylights\" and \"Licence to Kill.\"\\n5. Pierce Brosnan (1995-2002) - Played Bond in four films, including \"GoldenEye\" and \"Die Another Day.\"\\n6. Daniel Craig (2006-2021) - Played Bond in five films, including \"Casino Royale\" and \"No Time to Die.\"\\n\\nThe James Bond film series has become a cultural phenomenon, with 25 films produced to date, as well as numerous novels, short stories, and other media. The character\\'s enduring popularity can be attributed to his blend of style, sophistication, and high-octane action.\\n\\nSome of Bond\\'s most notable characteristics include:\\n\\n* His love of martinis (shaken, not stirred)\\n* His use of gadgets and high-tech devices\\n* His ability to think on his feet and improvise\\n* His charm and charisma with women\\n* His willingness to take risks and face danger head-on\\n\\nOverall, James Bond is a cultural icon and a symbol of sophistication and adventure.'"
      ]
     },
     "execution_count": 18,
     "metadata": {},
     "output_type": "execute_result"
    }
   ],
   "source": [
    "massage = [\n",
    "    {\"role\": \"user\",\"content\": \"who is james bond?\"}\n",
    "]\n",
    "\n",
    "model_name = os.getenv(\"MODEL_NAME\")\n",
    "msg = get_chatbot_response(model_name, massage)\n",
    "msg.content"
   ]
  },
  {
   "cell_type": "code",
   "execution_count": null,
   "id": "780d7ea1",
   "metadata": {},
   "outputs": [],
   "source": []
  },
  {
   "cell_type": "markdown",
   "id": "3ee73ccd",
   "metadata": {},
   "source": [
    "# Prompt Engineering "
   ]
  },
  {
   "cell_type": "markdown",
   "id": "1988ec7c",
   "metadata": {},
   "source": []
  },
  {
   "cell_type": "markdown",
   "id": "8520c2b4",
   "metadata": {},
   "source": [
    "## structure output"
   ]
  },
  {
   "cell_type": "markdown",
   "id": "64c017c4",
   "metadata": {},
   "source": []
  }
 ],
 "metadata": {
  "kernelspec": {
   "display_name": "Python 3",
   "language": "python",
   "name": "python3"
  },
  "language_info": {
   "codemirror_mode": {
    "name": "ipython",
    "version": 3
   },
   "file_extension": ".py",
   "mimetype": "text/x-python",
   "name": "python",
   "nbconvert_exporter": "python",
   "pygments_lexer": "ipython3",
   "version": "3.11.3"
  }
 },
 "nbformat": 4,
 "nbformat_minor": 5
}
