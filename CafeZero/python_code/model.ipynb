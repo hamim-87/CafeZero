{
 "cells": [
  {
   "cell_type": "code",
   "execution_count": 2,
   "id": "e76e163f-848d-4a73-a862-7954f095879e",
   "metadata": {},
   "outputs": [],
   "source": [
    "from langchain_groq import ChatGroq\n",
    "\n",
    "llm = ChatGroq(\n",
    "    temperature = 0,\n",
    "    groq_api_key = \"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\",\n",
    "    model_name = \"llama-3.1-70b-versatile\",\n",
    ")\n",
    "\n",
    "\n"
   ]
  },
  {
   "cell_type": "code",
   "execution_count": 3,
   "id": "91782ab8-4091-427d-98b9-58235915a140",
   "metadata": {},
   "outputs": [
    {
     "name": "stdout",
     "output_type": "stream",
     "text": [
      "The first people to overcome (or reach the summit of) Mount Everest were Tenzing Norgay, a Nepali Sherpa mountaineer, and Sir Edmund Hillary, a New Zealand mountaineer and explorer. They achieved this feat on May 29, 1953, as part of a British expedition led by John Hunt.\n"
     ]
    }
   ],
   "source": [
    "response = llm.invoke(\"the first person to overcome everest is..\")\n",
    "print(response.content)"
   ]
  },
  {
   "cell_type": "code",
   "execution_count": null,
   "id": "de84cf0e-dedf-413d-93ce-2affee406dd5",
   "metadata": {},
   "outputs": [],
   "source": []
  }
 ],
 "metadata": {
  "kernelspec": {
   "display_name": "Python 3 (ipykernel)",
   "language": "python",
   "name": "python3"
  },
  "language_info": {
   "codemirror_mode": {
    "name": "ipython",
    "version": 3
   },
   "file_extension": ".py",
   "mimetype": "text/x-python",
   "name": "python",
   "nbconvert_exporter": "python",
   "pygments_lexer": "ipython3",
   "version": "3.11.3"
  }
 },
 "nbformat": 4,
 "nbformat_minor": 5
}
